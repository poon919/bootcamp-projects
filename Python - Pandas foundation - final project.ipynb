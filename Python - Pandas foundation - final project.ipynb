{
 "cells": [
  {
   "attachments": {},
   "cell_type": "markdown",
   "metadata": {
    "datalore": {
     "hide_input_from_viewers": false,
     "hide_output_from_viewers": false,
     "node_id": "oGqQj2lxxcHCaeXQyqF1Pm",
     "report_properties": {},
     "type": "MD"
    }
   },
   "source": [
    "# Final Project - Analyzing Sales Data\n",
    "\n",
    "**Date**: 30 December 2022\n",
    "\n",
    "**Author**: Poonna Pipatpanukul\n",
    "\n",
    "**Course**: `Pandas Foundation`"
   ]
  },
  {
   "cell_type": "code",
   "execution_count": 1,
   "metadata": {
    "datalore": {
     "hide_input_from_viewers": false,
     "hide_output_from_viewers": false,
     "node_id": "Ly8uA1EMl6zBMqhRf6kL1l",
     "report_properties": {},
     "type": "CODE"
    }
   },
   "outputs": [],
   "source": [
    "# import data\n",
    "import pandas as pd\n",
    "import numpy as np\n",
    "\n",
    "df = pd.read_csv(\"sample-store.csv\")"
   ]
  },
  {
   "cell_type": "code",
   "execution_count": 2,
   "metadata": {
    "datalore": {
     "hide_input_from_viewers": false,
     "hide_output_from_viewers": false,
     "node_id": "rVaov85SpDvmCAC2W3nIOf",
     "report_properties": {},
     "type": "CODE"
    }
   },
   "outputs": [
    {
     "data": {
      "text/html": [
       "<div>\n",
       "<style scoped>\n",
       "    .dataframe tbody tr th:only-of-type {\n",
       "        vertical-align: middle;\n",
       "    }\n",
       "\n",
       "    .dataframe tbody tr th {\n",
       "        vertical-align: top;\n",
       "    }\n",
       "\n",
       "    .dataframe thead th {\n",
       "        text-align: right;\n",
       "    }\n",
       "</style>\n",
       "<table border=\"1\" class=\"dataframe\">\n",
       "  <thead>\n",
       "    <tr style=\"text-align: right;\">\n",
       "      <th></th>\n",
       "      <th>Row ID</th>\n",
       "      <th>Order ID</th>\n",
       "      <th>Order Date</th>\n",
       "      <th>Ship Date</th>\n",
       "      <th>Ship Mode</th>\n",
       "      <th>Customer ID</th>\n",
       "      <th>Customer Name</th>\n",
       "      <th>Segment</th>\n",
       "      <th>Country/Region</th>\n",
       "      <th>City</th>\n",
       "      <th>...</th>\n",
       "      <th>Postal Code</th>\n",
       "      <th>Region</th>\n",
       "      <th>Product ID</th>\n",
       "      <th>Category</th>\n",
       "      <th>Sub-Category</th>\n",
       "      <th>Product Name</th>\n",
       "      <th>Sales</th>\n",
       "      <th>Quantity</th>\n",
       "      <th>Discount</th>\n",
       "      <th>Profit</th>\n",
       "    </tr>\n",
       "  </thead>\n",
       "  <tbody>\n",
       "    <tr>\n",
       "      <th>0</th>\n",
       "      <td>1</td>\n",
       "      <td>CA-2019-152156</td>\n",
       "      <td>11/8/2019</td>\n",
       "      <td>11/11/2019</td>\n",
       "      <td>Second Class</td>\n",
       "      <td>CG-12520</td>\n",
       "      <td>Claire Gute</td>\n",
       "      <td>Consumer</td>\n",
       "      <td>United States</td>\n",
       "      <td>Henderson</td>\n",
       "      <td>...</td>\n",
       "      <td>42420.0</td>\n",
       "      <td>South</td>\n",
       "      <td>FUR-BO-10001798</td>\n",
       "      <td>Furniture</td>\n",
       "      <td>Bookcases</td>\n",
       "      <td>Bush Somerset Collection Bookcase</td>\n",
       "      <td>261.9600</td>\n",
       "      <td>2</td>\n",
       "      <td>0.00</td>\n",
       "      <td>41.9136</td>\n",
       "    </tr>\n",
       "    <tr>\n",
       "      <th>1</th>\n",
       "      <td>2</td>\n",
       "      <td>CA-2019-152156</td>\n",
       "      <td>11/8/2019</td>\n",
       "      <td>11/11/2019</td>\n",
       "      <td>Second Class</td>\n",
       "      <td>CG-12520</td>\n",
       "      <td>Claire Gute</td>\n",
       "      <td>Consumer</td>\n",
       "      <td>United States</td>\n",
       "      <td>Henderson</td>\n",
       "      <td>...</td>\n",
       "      <td>42420.0</td>\n",
       "      <td>South</td>\n",
       "      <td>FUR-CH-10000454</td>\n",
       "      <td>Furniture</td>\n",
       "      <td>Chairs</td>\n",
       "      <td>Hon Deluxe Fabric Upholstered Stacking Chairs,...</td>\n",
       "      <td>731.9400</td>\n",
       "      <td>3</td>\n",
       "      <td>0.00</td>\n",
       "      <td>219.5820</td>\n",
       "    </tr>\n",
       "    <tr>\n",
       "      <th>2</th>\n",
       "      <td>3</td>\n",
       "      <td>CA-2019-138688</td>\n",
       "      <td>6/12/2019</td>\n",
       "      <td>6/16/2019</td>\n",
       "      <td>Second Class</td>\n",
       "      <td>DV-13045</td>\n",
       "      <td>Darrin Van Huff</td>\n",
       "      <td>Corporate</td>\n",
       "      <td>United States</td>\n",
       "      <td>Los Angeles</td>\n",
       "      <td>...</td>\n",
       "      <td>90036.0</td>\n",
       "      <td>West</td>\n",
       "      <td>OFF-LA-10000240</td>\n",
       "      <td>Office Supplies</td>\n",
       "      <td>Labels</td>\n",
       "      <td>Self-Adhesive Address Labels for Typewriters b...</td>\n",
       "      <td>14.6200</td>\n",
       "      <td>2</td>\n",
       "      <td>0.00</td>\n",
       "      <td>6.8714</td>\n",
       "    </tr>\n",
       "    <tr>\n",
       "      <th>3</th>\n",
       "      <td>4</td>\n",
       "      <td>US-2018-108966</td>\n",
       "      <td>10/11/2018</td>\n",
       "      <td>10/18/2018</td>\n",
       "      <td>Standard Class</td>\n",
       "      <td>SO-20335</td>\n",
       "      <td>Sean O'Donnell</td>\n",
       "      <td>Consumer</td>\n",
       "      <td>United States</td>\n",
       "      <td>Fort Lauderdale</td>\n",
       "      <td>...</td>\n",
       "      <td>33311.0</td>\n",
       "      <td>South</td>\n",
       "      <td>FUR-TA-10000577</td>\n",
       "      <td>Furniture</td>\n",
       "      <td>Tables</td>\n",
       "      <td>Bretford CR4500 Series Slim Rectangular Table</td>\n",
       "      <td>957.5775</td>\n",
       "      <td>5</td>\n",
       "      <td>0.45</td>\n",
       "      <td>-383.0310</td>\n",
       "    </tr>\n",
       "    <tr>\n",
       "      <th>4</th>\n",
       "      <td>5</td>\n",
       "      <td>US-2018-108966</td>\n",
       "      <td>10/11/2018</td>\n",
       "      <td>10/18/2018</td>\n",
       "      <td>Standard Class</td>\n",
       "      <td>SO-20335</td>\n",
       "      <td>Sean O'Donnell</td>\n",
       "      <td>Consumer</td>\n",
       "      <td>United States</td>\n",
       "      <td>Fort Lauderdale</td>\n",
       "      <td>...</td>\n",
       "      <td>33311.0</td>\n",
       "      <td>South</td>\n",
       "      <td>OFF-ST-10000760</td>\n",
       "      <td>Office Supplies</td>\n",
       "      <td>Storage</td>\n",
       "      <td>Eldon Fold 'N Roll Cart System</td>\n",
       "      <td>22.3680</td>\n",
       "      <td>2</td>\n",
       "      <td>0.20</td>\n",
       "      <td>2.5164</td>\n",
       "    </tr>\n",
       "  </tbody>\n",
       "</table>\n",
       "<p>5 rows × 21 columns</p>\n",
       "</div>"
      ],
      "text/plain": [
       "   Row ID        Order ID  Order Date   Ship Date       Ship Mode Customer ID  \\\n",
       "0       1  CA-2019-152156   11/8/2019  11/11/2019    Second Class    CG-12520   \n",
       "1       2  CA-2019-152156   11/8/2019  11/11/2019    Second Class    CG-12520   \n",
       "2       3  CA-2019-138688   6/12/2019   6/16/2019    Second Class    DV-13045   \n",
       "3       4  US-2018-108966  10/11/2018  10/18/2018  Standard Class    SO-20335   \n",
       "4       5  US-2018-108966  10/11/2018  10/18/2018  Standard Class    SO-20335   \n",
       "\n",
       "     Customer Name    Segment Country/Region             City  ...  \\\n",
       "0      Claire Gute   Consumer  United States        Henderson  ...   \n",
       "1      Claire Gute   Consumer  United States        Henderson  ...   \n",
       "2  Darrin Van Huff  Corporate  United States      Los Angeles  ...   \n",
       "3   Sean O'Donnell   Consumer  United States  Fort Lauderdale  ...   \n",
       "4   Sean O'Donnell   Consumer  United States  Fort Lauderdale  ...   \n",
       "\n",
       "  Postal Code  Region       Product ID         Category Sub-Category  \\\n",
       "0     42420.0   South  FUR-BO-10001798        Furniture    Bookcases   \n",
       "1     42420.0   South  FUR-CH-10000454        Furniture       Chairs   \n",
       "2     90036.0    West  OFF-LA-10000240  Office Supplies       Labels   \n",
       "3     33311.0   South  FUR-TA-10000577        Furniture       Tables   \n",
       "4     33311.0   South  OFF-ST-10000760  Office Supplies      Storage   \n",
       "\n",
       "                                        Product Name     Sales  Quantity  \\\n",
       "0                  Bush Somerset Collection Bookcase  261.9600         2   \n",
       "1  Hon Deluxe Fabric Upholstered Stacking Chairs,...  731.9400         3   \n",
       "2  Self-Adhesive Address Labels for Typewriters b...   14.6200         2   \n",
       "3      Bretford CR4500 Series Slim Rectangular Table  957.5775         5   \n",
       "4                     Eldon Fold 'N Roll Cart System   22.3680         2   \n",
       "\n",
       "   Discount    Profit  \n",
       "0      0.00   41.9136  \n",
       "1      0.00  219.5820  \n",
       "2      0.00    6.8714  \n",
       "3      0.45 -383.0310  \n",
       "4      0.20    2.5164  \n",
       "\n",
       "[5 rows x 21 columns]"
      ]
     },
     "execution_count": 2,
     "metadata": {},
     "output_type": "execute_result"
    }
   ],
   "source": [
    "# preview top 5 rows\n",
    "df.head()"
   ]
  },
  {
   "cell_type": "code",
   "execution_count": 3,
   "metadata": {
    "datalore": {
     "hide_input_from_viewers": false,
     "hide_output_from_viewers": false,
     "node_id": "sX2S3yynEi08DmOw5S2MGb",
     "report_properties": {},
     "type": "CODE"
    }
   },
   "outputs": [
    {
     "data": {
      "text/plain": [
       "(9994, 21)"
      ]
     },
     "execution_count": 3,
     "metadata": {},
     "output_type": "execute_result"
    }
   ],
   "source": [
    "# shape of dataframe\n",
    "df.shape"
   ]
  },
  {
   "cell_type": "code",
   "execution_count": 4,
   "metadata": {
    "datalore": {
     "hide_input_from_viewers": false,
     "hide_output_from_viewers": false,
     "node_id": "EZcBwckzliOrOy4WUG2nsA",
     "report_properties": {},
     "type": "CODE"
    }
   },
   "outputs": [
    {
     "name": "stdout",
     "output_type": "stream",
     "text": [
      "<class 'pandas.core.frame.DataFrame'>\n",
      "RangeIndex: 9994 entries, 0 to 9993\n",
      "Data columns (total 21 columns):\n",
      " #   Column          Non-Null Count  Dtype  \n",
      "---  ------          --------------  -----  \n",
      " 0   Row ID          9994 non-null   int64  \n",
      " 1   Order ID        9994 non-null   object \n",
      " 2   Order Date      9994 non-null   object \n",
      " 3   Ship Date       9994 non-null   object \n",
      " 4   Ship Mode       9994 non-null   object \n",
      " 5   Customer ID     9994 non-null   object \n",
      " 6   Customer Name   9994 non-null   object \n",
      " 7   Segment         9994 non-null   object \n",
      " 8   Country/Region  9994 non-null   object \n",
      " 9   City            9994 non-null   object \n",
      " 10  State           9994 non-null   object \n",
      " 11  Postal Code     9983 non-null   float64\n",
      " 12  Region          9994 non-null   object \n",
      " 13  Product ID      9994 non-null   object \n",
      " 14  Category        9994 non-null   object \n",
      " 15  Sub-Category    9994 non-null   object \n",
      " 16  Product Name    9994 non-null   object \n",
      " 17  Sales           9994 non-null   float64\n",
      " 18  Quantity        9994 non-null   int64  \n",
      " 19  Discount        9994 non-null   float64\n",
      " 20  Profit          9994 non-null   float64\n",
      "dtypes: float64(4), int64(2), object(15)\n",
      "memory usage: 1.6+ MB\n"
     ]
    }
   ],
   "source": [
    "# see data frame information using .info()\n",
    "df.info()"
   ]
  },
  {
   "attachments": {},
   "cell_type": "markdown",
   "metadata": {
    "datalore": {
     "hide_input_from_viewers": false,
     "hide_output_from_viewers": false,
     "node_id": "ZWWuix1wTIxLEZh2OXYKyG",
     "report_properties": {},
     "type": "MD"
    }
   },
   "source": [
    "We can use `pd.to_datetime()` function to convert columns 'Order Date' and 'Ship Date' to datetime."
   ]
  },
  {
   "cell_type": "code",
   "execution_count": 5,
   "metadata": {
    "datalore": {
     "hide_input_from_viewers": false,
     "hide_output_from_viewers": false,
     "node_id": "zpf7lhTVjFRLC4VQEhpqIf",
     "report_properties": {},
     "type": "CODE"
    }
   },
   "outputs": [
    {
     "data": {
      "text/plain": [
       "0   2019-11-08\n",
       "1   2019-11-08\n",
       "2   2019-06-12\n",
       "3   2018-10-11\n",
       "4   2018-10-11\n",
       "Name: Order Date, dtype: datetime64[ns]"
      ]
     },
     "execution_count": 5,
     "metadata": {},
     "output_type": "execute_result"
    }
   ],
   "source": [
    "# example of pd.to_datetime() function\n",
    "pd.to_datetime(df['Order Date'].head(), format='%m/%d/%Y')"
   ]
  },
  {
   "cell_type": "code",
   "execution_count": 6,
   "metadata": {
    "datalore": {
     "hide_input_from_viewers": false,
     "hide_output_from_viewers": false,
     "node_id": "ASVklGX5qH3rF5P5UT7upV",
     "report_properties": {},
     "type": "CODE"
    }
   },
   "outputs": [],
   "source": [
    "# 01 - convert order date and ship date to datetime in the original dataframe\n",
    "df['Order Date'] = pd.to_datetime(df['Order Date'], format='%m/%d/%Y')\n",
    "df['Ship Date'] = pd.to_datetime(df['Ship Date'], format='%m/%d/%Y')"
   ]
  },
  {
   "cell_type": "code",
   "execution_count": 7,
   "metadata": {
    "datalore": {
     "hide_input_from_viewers": false,
     "hide_output_from_viewers": false,
     "node_id": "iNdtQVEQUfUVII7cFe4ida",
     "report_properties": {},
     "type": "CODE"
    }
   },
   "outputs": [
    {
     "data": {
      "text/plain": [
       "11"
      ]
     },
     "execution_count": 7,
     "metadata": {},
     "output_type": "execute_result"
    }
   ],
   "source": [
    " # 02 - count nan in postal code column\n",
    "df['Postal Code'].isna().sum()"
   ]
  },
  {
   "cell_type": "code",
   "execution_count": 8,
   "metadata": {
    "datalore": {
     "hide_input_from_viewers": false,
     "hide_output_from_viewers": false,
     "node_id": "qKZYFf3jyLdKs9Kx7et6Es",
     "report_properties": {},
     "type": "CODE"
    }
   },
   "outputs": [],
   "source": [
    "# 03 - filter rows with missing values\n",
    "df = df.dropna()"
   ]
  },
  {
   "cell_type": "code",
   "execution_count": 9,
   "metadata": {
    "datalore": {
     "hide_input_from_viewers": false,
     "hide_output_from_viewers": false,
     "node_id": "wdanJVnXlqe1FtZBolHLMC",
     "report_properties": {},
     "type": "CODE"
    }
   },
   "outputs": [],
   "source": [
    "# 04 - Explore this dataset on your owns, ask your own questions\n",
    "\n",
    "# Set order date as the index for futher analysis\n",
    "df = df.set_index(['Order Date']).sort_index()"
   ]
  },
  {
   "cell_type": "code",
   "execution_count": 10,
   "metadata": {
    "datalore": {
     "hide_input_from_viewers": true,
     "hide_output_from_viewers": true,
     "node_id": "ZSW8t0LCOFTlv8mEU51wBk",
     "type": "CODE"
    }
   },
   "outputs": [
    {
     "data": {
      "text/html": [
       "<div>\n",
       "<style scoped>\n",
       "    .dataframe tbody tr th:only-of-type {\n",
       "        vertical-align: middle;\n",
       "    }\n",
       "\n",
       "    .dataframe tbody tr th {\n",
       "        vertical-align: top;\n",
       "    }\n",
       "\n",
       "    .dataframe thead th {\n",
       "        text-align: right;\n",
       "    }\n",
       "</style>\n",
       "<table border=\"1\" class=\"dataframe\">\n",
       "  <thead>\n",
       "    <tr style=\"text-align: right;\">\n",
       "      <th>OrdYear</th>\n",
       "      <th>2017</th>\n",
       "      <th>2018</th>\n",
       "      <th>2019</th>\n",
       "      <th>2020</th>\n",
       "      <th>CAGR</th>\n",
       "    </tr>\n",
       "    <tr>\n",
       "      <th>Sub-Category</th>\n",
       "      <th></th>\n",
       "      <th></th>\n",
       "      <th></th>\n",
       "      <th></th>\n",
       "      <th></th>\n",
       "    </tr>\n",
       "  </thead>\n",
       "  <tbody>\n",
       "    <tr>\n",
       "      <th>Copiers</th>\n",
       "      <td>10849.78</td>\n",
       "      <td>26179.45</td>\n",
       "      <td>49599.41</td>\n",
       "      <td>62899.39</td>\n",
       "      <td>1.41</td>\n",
       "    </tr>\n",
       "    <tr>\n",
       "      <th>Appliances</th>\n",
       "      <td>15313.62</td>\n",
       "      <td>23241.29</td>\n",
       "      <td>26050.32</td>\n",
       "      <td>42383.99</td>\n",
       "      <td>0.66</td>\n",
       "    </tr>\n",
       "    <tr>\n",
       "      <th>Accessories</th>\n",
       "      <td>25014.27</td>\n",
       "      <td>40523.96</td>\n",
       "      <td>41795.87</td>\n",
       "      <td>59741.20</td>\n",
       "      <td>0.55</td>\n",
       "    </tr>\n",
       "    <tr>\n",
       "      <th>Furnishings</th>\n",
       "      <td>13826.23</td>\n",
       "      <td>21089.71</td>\n",
       "      <td>27874.12</td>\n",
       "      <td>28915.09</td>\n",
       "      <td>0.45</td>\n",
       "    </tr>\n",
       "    <tr>\n",
       "      <th>Paper</th>\n",
       "      <td>14834.96</td>\n",
       "      <td>15287.64</td>\n",
       "      <td>20661.89</td>\n",
       "      <td>27602.52</td>\n",
       "      <td>0.36</td>\n",
       "    </tr>\n",
       "  </tbody>\n",
       "</table>\n",
       "</div>"
      ],
      "text/plain": [
       "OrdYear           2017      2018      2019      2020  CAGR\n",
       "Sub-Category                                              \n",
       "Copiers       10849.78  26179.45  49599.41  62899.39  1.41\n",
       "Appliances    15313.62  23241.29  26050.32  42383.99  0.66\n",
       "Accessories   25014.27  40523.96  41795.87  59741.20  0.55\n",
       "Furnishings   13826.23  21089.71  27874.12  28915.09  0.45\n",
       "Paper         14834.96  15287.64  20661.89  27602.52  0.36"
      ]
     },
     "execution_count": 10,
     "metadata": {},
     "output_type": "execute_result"
    }
   ],
   "source": [
    "# Which sub-category has the highest historical sales growth?\n",
    "df['OrdYear'] = df.index.year\n",
    "yearly_sales = df.groupby(['Sub-Category', 'OrdYear'])['Sales'].sum().unstack(0).T\n",
    "yearly_sales['CAGR'] = (yearly_sales[2020]/yearly_sales[2017]) ** (1/(2020-2018)) - 1\n",
    "yearly_sales.sort_values('CAGR', ascending=False).round(2).head()"
   ]
  },
  {
   "cell_type": "code",
   "execution_count": 11,
   "metadata": {
    "datalore": {
     "hide_input_from_viewers": true,
     "hide_output_from_viewers": true,
     "node_id": "3HT77weojzXbHTp7qafVGs",
     "type": "CODE"
    }
   },
   "outputs": [
    {
     "data": {
      "text/html": [
       "<div>\n",
       "<style scoped>\n",
       "    .dataframe tbody tr th:only-of-type {\n",
       "        vertical-align: middle;\n",
       "    }\n",
       "\n",
       "    .dataframe tbody tr th {\n",
       "        vertical-align: top;\n",
       "    }\n",
       "\n",
       "    .dataframe thead th {\n",
       "        text-align: right;\n",
       "    }\n",
       "</style>\n",
       "<table border=\"1\" class=\"dataframe\">\n",
       "  <thead>\n",
       "    <tr style=\"text-align: right;\">\n",
       "      <th></th>\n",
       "      <th>NPM</th>\n",
       "      <th>Count</th>\n",
       "    </tr>\n",
       "    <tr>\n",
       "      <th>Sub-Category</th>\n",
       "      <th></th>\n",
       "      <th></th>\n",
       "    </tr>\n",
       "  </thead>\n",
       "  <tbody>\n",
       "    <tr>\n",
       "      <th>Labels</th>\n",
       "      <td>44.42</td>\n",
       "      <td>364.0</td>\n",
       "    </tr>\n",
       "    <tr>\n",
       "      <th>Paper</th>\n",
       "      <td>43.39</td>\n",
       "      <td>1368.0</td>\n",
       "    </tr>\n",
       "    <tr>\n",
       "      <th>Envelopes</th>\n",
       "      <td>42.27</td>\n",
       "      <td>253.0</td>\n",
       "    </tr>\n",
       "    <tr>\n",
       "      <th>Copiers</th>\n",
       "      <td>37.20</td>\n",
       "      <td>68.0</td>\n",
       "    </tr>\n",
       "    <tr>\n",
       "      <th>Fasteners</th>\n",
       "      <td>31.40</td>\n",
       "      <td>217.0</td>\n",
       "    </tr>\n",
       "    <tr>\n",
       "      <th>Accessories</th>\n",
       "      <td>25.03</td>\n",
       "      <td>773.0</td>\n",
       "    </tr>\n",
       "    <tr>\n",
       "      <th>Art</th>\n",
       "      <td>24.07</td>\n",
       "      <td>795.0</td>\n",
       "    </tr>\n",
       "  </tbody>\n",
       "</table>\n",
       "</div>"
      ],
      "text/plain": [
       "                NPM   Count\n",
       "Sub-Category               \n",
       "Labels        44.42   364.0\n",
       "Paper         43.39  1368.0\n",
       "Envelopes     42.27   253.0\n",
       "Copiers       37.20    68.0\n",
       "Fasteners     31.40   217.0\n",
       "Accessories   25.03   773.0\n",
       "Art           24.07   795.0"
      ]
     },
     "execution_count": 11,
     "metadata": {},
     "output_type": "execute_result"
    }
   ],
   "source": [
    "# Which sub-category and and state has the highest profit margin?\n",
    "def calc_NPM_count(x):\n",
    "    return pd.Series({\n",
    "        'NPM': x['Profit'].sum() / x['Sales'].sum() * 100,\n",
    "        'Count': len(x),\n",
    "    })\n",
    "\n",
    "df.groupby('Sub-Category').apply(calc_NPM_count).sort_values('NPM', ascending=False).head(7).round(2)"
   ]
  },
  {
   "cell_type": "code",
   "execution_count": 12,
   "metadata": {
    "datalore": {
     "hide_input_from_viewers": true,
     "hide_output_from_viewers": true,
     "node_id": "kgM7YYqPA13eGPYJuatGYG",
     "type": "CODE"
    }
   },
   "outputs": [
    {
     "data": {
      "text/html": [
       "<div>\n",
       "<style scoped>\n",
       "    .dataframe tbody tr th:only-of-type {\n",
       "        vertical-align: middle;\n",
       "    }\n",
       "\n",
       "    .dataframe tbody tr th {\n",
       "        vertical-align: top;\n",
       "    }\n",
       "\n",
       "    .dataframe thead th {\n",
       "        text-align: right;\n",
       "    }\n",
       "</style>\n",
       "<table border=\"1\" class=\"dataframe\">\n",
       "  <thead>\n",
       "    <tr style=\"text-align: right;\">\n",
       "      <th></th>\n",
       "      <th>NPM</th>\n",
       "      <th>Count</th>\n",
       "    </tr>\n",
       "    <tr>\n",
       "      <th>State</th>\n",
       "      <th></th>\n",
       "      <th></th>\n",
       "    </tr>\n",
       "  </thead>\n",
       "  <tbody>\n",
       "    <tr>\n",
       "      <th>District of Columbia</th>\n",
       "      <td>36.98</td>\n",
       "      <td>10.0</td>\n",
       "    </tr>\n",
       "    <tr>\n",
       "      <th>Delaware</th>\n",
       "      <td>36.35</td>\n",
       "      <td>96.0</td>\n",
       "    </tr>\n",
       "    <tr>\n",
       "      <th>Minnesota</th>\n",
       "      <td>36.24</td>\n",
       "      <td>89.0</td>\n",
       "    </tr>\n",
       "    <tr>\n",
       "      <th>Maine</th>\n",
       "      <td>35.77</td>\n",
       "      <td>8.0</td>\n",
       "    </tr>\n",
       "    <tr>\n",
       "      <th>Arkansas</th>\n",
       "      <td>34.33</td>\n",
       "      <td>60.0</td>\n",
       "    </tr>\n",
       "    <tr>\n",
       "      <th>Indiana</th>\n",
       "      <td>34.33</td>\n",
       "      <td>149.0</td>\n",
       "    </tr>\n",
       "    <tr>\n",
       "      <th>Georgia</th>\n",
       "      <td>33.10</td>\n",
       "      <td>184.0</td>\n",
       "    </tr>\n",
       "  </tbody>\n",
       "</table>\n",
       "</div>"
      ],
      "text/plain": [
       "                        NPM  Count\n",
       "State                             \n",
       "District of Columbia  36.98   10.0\n",
       "Delaware              36.35   96.0\n",
       "Minnesota             36.24   89.0\n",
       "Maine                 35.77    8.0\n",
       "Arkansas              34.33   60.0\n",
       "Indiana               34.33  149.0\n",
       "Georgia               33.10  184.0"
      ]
     },
     "execution_count": 12,
     "metadata": {},
     "output_type": "execute_result"
    }
   ],
   "source": [
    "df.groupby('State').apply(calc_NPM_count).sort_values('NPM', ascending=False).head(7).round(2)"
   ]
  },
  {
   "attachments": {},
   "cell_type": "markdown",
   "metadata": {
    "datalore": {
     "hide_input_from_viewers": false,
     "hide_output_from_viewers": false,
     "node_id": "iMuFil0tcEIjoufC83FTFj",
     "report_properties": {},
     "type": "MD"
    }
   },
   "source": [
    "## Data Analysis Part\n",
    "\n",
    "Answer 10 below questions to get credit from this course. Write `pandas` code to find answers."
   ]
  },
  {
   "cell_type": "code",
   "execution_count": 13,
   "metadata": {
    "datalore": {
     "hide_input_from_viewers": false,
     "hide_output_from_viewers": false,
     "node_id": "pQlE8GNbfh5adyLCIQPMGc",
     "report_properties": {},
     "type": "CODE"
    }
   },
   "outputs": [
    {
     "data": {
      "text/plain": [
       "(9983, 21)"
      ]
     },
     "execution_count": 13,
     "metadata": {},
     "output_type": "execute_result"
    }
   ],
   "source": [
    "# 01 - how many columns, rows in this dataset\n",
    "df.shape"
   ]
  },
  {
   "cell_type": "code",
   "execution_count": 14,
   "metadata": {
    "datalore": {
     "hide_input_from_viewers": false,
     "hide_output_from_viewers": false,
     "node_id": "eEFsmDu3f6rBDoCtasaAki",
     "report_properties": {},
     "type": "CODE"
    }
   },
   "outputs": [
    {
     "data": {
      "text/plain": [
       "Series([], dtype: int64)"
      ]
     },
     "execution_count": 14,
     "metadata": {},
     "output_type": "execute_result"
    }
   ],
   "source": [
    "# 02 - is there any missing values?, if there is, which colunm? how many nan values?\n",
    "\n",
    "# No missing values because we already filtered it out above.\n",
    "nan_count = df.isna().sum()\n",
    "nan_count[nan_count > 0]"
   ]
  },
  {
   "cell_type": "code",
   "execution_count": 15,
   "metadata": {
    "datalore": {
     "hide_input_from_viewers": false,
     "hide_output_from_viewers": false,
     "node_id": "BmTNRQxWcx07u4gNmWgLQV",
     "report_properties": {},
     "type": "CODE"
    }
   },
   "outputs": [
    {
     "data": {
      "text/html": [
       "<div>\n",
       "<style scoped>\n",
       "    .dataframe tbody tr th:only-of-type {\n",
       "        vertical-align: middle;\n",
       "    }\n",
       "\n",
       "    .dataframe tbody tr th {\n",
       "        vertical-align: top;\n",
       "    }\n",
       "\n",
       "    .dataframe thead th {\n",
       "        text-align: right;\n",
       "    }\n",
       "</style>\n",
       "<table border=\"1\" class=\"dataframe\">\n",
       "  <thead>\n",
       "    <tr style=\"text-align: right;\">\n",
       "      <th></th>\n",
       "      <th>Row ID</th>\n",
       "      <th>Order ID</th>\n",
       "      <th>Ship Date</th>\n",
       "      <th>Ship Mode</th>\n",
       "      <th>Customer ID</th>\n",
       "      <th>Customer Name</th>\n",
       "      <th>Segment</th>\n",
       "      <th>Country/Region</th>\n",
       "      <th>City</th>\n",
       "      <th>State</th>\n",
       "      <th>...</th>\n",
       "      <th>Region</th>\n",
       "      <th>Product ID</th>\n",
       "      <th>Category</th>\n",
       "      <th>Sub-Category</th>\n",
       "      <th>Product Name</th>\n",
       "      <th>Sales</th>\n",
       "      <th>Quantity</th>\n",
       "      <th>Discount</th>\n",
       "      <th>Profit</th>\n",
       "      <th>OrdYear</th>\n",
       "    </tr>\n",
       "    <tr>\n",
       "      <th>Order Date</th>\n",
       "      <th></th>\n",
       "      <th></th>\n",
       "      <th></th>\n",
       "      <th></th>\n",
       "      <th></th>\n",
       "      <th></th>\n",
       "      <th></th>\n",
       "      <th></th>\n",
       "      <th></th>\n",
       "      <th></th>\n",
       "      <th></th>\n",
       "      <th></th>\n",
       "      <th></th>\n",
       "      <th></th>\n",
       "      <th></th>\n",
       "      <th></th>\n",
       "      <th></th>\n",
       "      <th></th>\n",
       "      <th></th>\n",
       "      <th></th>\n",
       "      <th></th>\n",
       "    </tr>\n",
       "  </thead>\n",
       "  <tbody>\n",
       "    <tr>\n",
       "      <th>2017-01-06</th>\n",
       "      <td>5328</td>\n",
       "      <td>CA-2017-130813</td>\n",
       "      <td>2017-01-08</td>\n",
       "      <td>Second Class</td>\n",
       "      <td>LS-17230</td>\n",
       "      <td>Lycoris Saunders</td>\n",
       "      <td>Consumer</td>\n",
       "      <td>United States</td>\n",
       "      <td>Los Angeles</td>\n",
       "      <td>California</td>\n",
       "      <td>...</td>\n",
       "      <td>West</td>\n",
       "      <td>OFF-PA-10002005</td>\n",
       "      <td>Office Supplies</td>\n",
       "      <td>Paper</td>\n",
       "      <td>Xerox 225</td>\n",
       "      <td>19.440</td>\n",
       "      <td>3</td>\n",
       "      <td>0.00</td>\n",
       "      <td>9.3312</td>\n",
       "      <td>2017</td>\n",
       "    </tr>\n",
       "    <tr>\n",
       "      <th>2017-01-13</th>\n",
       "      <td>4938</td>\n",
       "      <td>CA-2017-157147</td>\n",
       "      <td>2017-01-18</td>\n",
       "      <td>Standard Class</td>\n",
       "      <td>BD-11605</td>\n",
       "      <td>Brian Dahlen</td>\n",
       "      <td>Consumer</td>\n",
       "      <td>United States</td>\n",
       "      <td>San Francisco</td>\n",
       "      <td>California</td>\n",
       "      <td>...</td>\n",
       "      <td>West</td>\n",
       "      <td>OFF-ST-10000078</td>\n",
       "      <td>Office Supplies</td>\n",
       "      <td>Storage</td>\n",
       "      <td>Tennsco 6- and 18-Compartment Lockers</td>\n",
       "      <td>1325.850</td>\n",
       "      <td>5</td>\n",
       "      <td>0.00</td>\n",
       "      <td>238.6530</td>\n",
       "      <td>2017</td>\n",
       "    </tr>\n",
       "    <tr>\n",
       "      <th>2017-01-13</th>\n",
       "      <td>4940</td>\n",
       "      <td>CA-2017-157147</td>\n",
       "      <td>2017-01-18</td>\n",
       "      <td>Standard Class</td>\n",
       "      <td>BD-11605</td>\n",
       "      <td>Brian Dahlen</td>\n",
       "      <td>Consumer</td>\n",
       "      <td>United States</td>\n",
       "      <td>San Francisco</td>\n",
       "      <td>California</td>\n",
       "      <td>...</td>\n",
       "      <td>West</td>\n",
       "      <td>OFF-AR-10003514</td>\n",
       "      <td>Office Supplies</td>\n",
       "      <td>Art</td>\n",
       "      <td>4009 Highlighters by Sanford</td>\n",
       "      <td>19.900</td>\n",
       "      <td>5</td>\n",
       "      <td>0.00</td>\n",
       "      <td>6.5670</td>\n",
       "      <td>2017</td>\n",
       "    </tr>\n",
       "    <tr>\n",
       "      <th>2017-01-13</th>\n",
       "      <td>4939</td>\n",
       "      <td>CA-2017-157147</td>\n",
       "      <td>2017-01-18</td>\n",
       "      <td>Standard Class</td>\n",
       "      <td>BD-11605</td>\n",
       "      <td>Brian Dahlen</td>\n",
       "      <td>Consumer</td>\n",
       "      <td>United States</td>\n",
       "      <td>San Francisco</td>\n",
       "      <td>California</td>\n",
       "      <td>...</td>\n",
       "      <td>West</td>\n",
       "      <td>FUR-BO-10003034</td>\n",
       "      <td>Furniture</td>\n",
       "      <td>Bookcases</td>\n",
       "      <td>O'Sullivan Elevations Bookcase, Cherry Finish</td>\n",
       "      <td>333.999</td>\n",
       "      <td>3</td>\n",
       "      <td>0.15</td>\n",
       "      <td>3.9294</td>\n",
       "      <td>2017</td>\n",
       "    </tr>\n",
       "    <tr>\n",
       "      <th>2017-01-20</th>\n",
       "      <td>5737</td>\n",
       "      <td>CA-2017-148614</td>\n",
       "      <td>2017-01-25</td>\n",
       "      <td>Standard Class</td>\n",
       "      <td>MV-17485</td>\n",
       "      <td>Mark Van Huff</td>\n",
       "      <td>Consumer</td>\n",
       "      <td>United States</td>\n",
       "      <td>Los Angeles</td>\n",
       "      <td>California</td>\n",
       "      <td>...</td>\n",
       "      <td>West</td>\n",
       "      <td>OFF-PA-10002893</td>\n",
       "      <td>Office Supplies</td>\n",
       "      <td>Paper</td>\n",
       "      <td>Wirebound Service Call Books, 5 1/2\" x 4\"</td>\n",
       "      <td>19.360</td>\n",
       "      <td>2</td>\n",
       "      <td>0.00</td>\n",
       "      <td>9.2928</td>\n",
       "      <td>2017</td>\n",
       "    </tr>\n",
       "  </tbody>\n",
       "</table>\n",
       "<p>5 rows × 21 columns</p>\n",
       "</div>"
      ],
      "text/plain": [
       "            Row ID        Order ID  Ship Date       Ship Mode Customer ID  \\\n",
       "Order Date                                                                  \n",
       "2017-01-06    5328  CA-2017-130813 2017-01-08    Second Class    LS-17230   \n",
       "2017-01-13    4938  CA-2017-157147 2017-01-18  Standard Class    BD-11605   \n",
       "2017-01-13    4940  CA-2017-157147 2017-01-18  Standard Class    BD-11605   \n",
       "2017-01-13    4939  CA-2017-157147 2017-01-18  Standard Class    BD-11605   \n",
       "2017-01-20    5737  CA-2017-148614 2017-01-25  Standard Class    MV-17485   \n",
       "\n",
       "               Customer Name   Segment Country/Region           City  \\\n",
       "Order Date                                                             \n",
       "2017-01-06  Lycoris Saunders  Consumer  United States    Los Angeles   \n",
       "2017-01-13      Brian Dahlen  Consumer  United States  San Francisco   \n",
       "2017-01-13      Brian Dahlen  Consumer  United States  San Francisco   \n",
       "2017-01-13      Brian Dahlen  Consumer  United States  San Francisco   \n",
       "2017-01-20     Mark Van Huff  Consumer  United States    Los Angeles   \n",
       "\n",
       "                 State  ...  Region       Product ID         Category  \\\n",
       "Order Date              ...                                             \n",
       "2017-01-06  California  ...    West  OFF-PA-10002005  Office Supplies   \n",
       "2017-01-13  California  ...    West  OFF-ST-10000078  Office Supplies   \n",
       "2017-01-13  California  ...    West  OFF-AR-10003514  Office Supplies   \n",
       "2017-01-13  California  ...    West  FUR-BO-10003034        Furniture   \n",
       "2017-01-20  California  ...    West  OFF-PA-10002893  Office Supplies   \n",
       "\n",
       "           Sub-Category                                   Product Name  \\\n",
       "Order Date                                                               \n",
       "2017-01-06        Paper                                      Xerox 225   \n",
       "2017-01-13      Storage          Tennsco 6- and 18-Compartment Lockers   \n",
       "2017-01-13          Art                   4009 Highlighters by Sanford   \n",
       "2017-01-13    Bookcases  O'Sullivan Elevations Bookcase, Cherry Finish   \n",
       "2017-01-20        Paper      Wirebound Service Call Books, 5 1/2\" x 4\"   \n",
       "\n",
       "               Sales  Quantity  Discount    Profit  OrdYear  \n",
       "Order Date                                                   \n",
       "2017-01-06    19.440         3      0.00    9.3312     2017  \n",
       "2017-01-13  1325.850         5      0.00  238.6530     2017  \n",
       "2017-01-13    19.900         5      0.00    6.5670     2017  \n",
       "2017-01-13   333.999         3      0.15    3.9294     2017  \n",
       "2017-01-20    19.360         2      0.00    9.2928     2017  \n",
       "\n",
       "[5 rows x 21 columns]"
      ]
     },
     "execution_count": 15,
     "metadata": {},
     "output_type": "execute_result"
    }
   ],
   "source": [
    "# 03 - your friend ask for `California` data, filter it and export csv for him\n",
    "new_df = df[df['State'] == 'California']\n",
    "new_df.head()"
   ]
  },
  {
   "cell_type": "code",
   "execution_count": 16,
   "metadata": {
    "datalore": {
     "hide_input_from_viewers": true,
     "hide_output_from_viewers": true,
     "node_id": "zbnK4NVvUFDCEzHp20KA5y",
     "type": "CODE"
    }
   },
   "outputs": [],
   "source": [
    "new_df.to_csv('California.csv')"
   ]
  },
  {
   "cell_type": "code",
   "execution_count": 17,
   "metadata": {
    "datalore": {
     "hide_input_from_viewers": false,
     "hide_output_from_viewers": false,
     "node_id": "KKbTNWp1HPSlzAp5tmDEWZ",
     "report_properties": {},
     "type": "CODE"
    }
   },
   "outputs": [
    {
     "data": {
      "text/html": [
       "<div>\n",
       "<style scoped>\n",
       "    .dataframe tbody tr th:only-of-type {\n",
       "        vertical-align: middle;\n",
       "    }\n",
       "\n",
       "    .dataframe tbody tr th {\n",
       "        vertical-align: top;\n",
       "    }\n",
       "\n",
       "    .dataframe thead th {\n",
       "        text-align: right;\n",
       "    }\n",
       "</style>\n",
       "<table border=\"1\" class=\"dataframe\">\n",
       "  <thead>\n",
       "    <tr style=\"text-align: right;\">\n",
       "      <th></th>\n",
       "      <th>Row ID</th>\n",
       "      <th>Order ID</th>\n",
       "      <th>Ship Date</th>\n",
       "      <th>Ship Mode</th>\n",
       "      <th>Customer ID</th>\n",
       "      <th>Customer Name</th>\n",
       "      <th>Segment</th>\n",
       "      <th>Country/Region</th>\n",
       "      <th>City</th>\n",
       "      <th>State</th>\n",
       "      <th>...</th>\n",
       "      <th>Region</th>\n",
       "      <th>Product ID</th>\n",
       "      <th>Category</th>\n",
       "      <th>Sub-Category</th>\n",
       "      <th>Product Name</th>\n",
       "      <th>Sales</th>\n",
       "      <th>Quantity</th>\n",
       "      <th>Discount</th>\n",
       "      <th>Profit</th>\n",
       "      <th>OrdYear</th>\n",
       "    </tr>\n",
       "    <tr>\n",
       "      <th>Order Date</th>\n",
       "      <th></th>\n",
       "      <th></th>\n",
       "      <th></th>\n",
       "      <th></th>\n",
       "      <th></th>\n",
       "      <th></th>\n",
       "      <th></th>\n",
       "      <th></th>\n",
       "      <th></th>\n",
       "      <th></th>\n",
       "      <th></th>\n",
       "      <th></th>\n",
       "      <th></th>\n",
       "      <th></th>\n",
       "      <th></th>\n",
       "      <th></th>\n",
       "      <th></th>\n",
       "      <th></th>\n",
       "      <th></th>\n",
       "      <th></th>\n",
       "      <th></th>\n",
       "    </tr>\n",
       "  </thead>\n",
       "  <tbody>\n",
       "    <tr>\n",
       "      <th>2017-01-03</th>\n",
       "      <td>7981</td>\n",
       "      <td>CA-2017-103800</td>\n",
       "      <td>2017-01-07</td>\n",
       "      <td>Standard Class</td>\n",
       "      <td>DP-13000</td>\n",
       "      <td>Darren Powers</td>\n",
       "      <td>Consumer</td>\n",
       "      <td>United States</td>\n",
       "      <td>Houston</td>\n",
       "      <td>Texas</td>\n",
       "      <td>...</td>\n",
       "      <td>Central</td>\n",
       "      <td>OFF-PA-10000174</td>\n",
       "      <td>Office Supplies</td>\n",
       "      <td>Paper</td>\n",
       "      <td>Message Book, Wirebound, Four 5 1/2\" X 4\" Form...</td>\n",
       "      <td>16.448</td>\n",
       "      <td>2</td>\n",
       "      <td>0.2</td>\n",
       "      <td>5.5512</td>\n",
       "      <td>2017</td>\n",
       "    </tr>\n",
       "    <tr>\n",
       "      <th>2017-01-06</th>\n",
       "      <td>5328</td>\n",
       "      <td>CA-2017-130813</td>\n",
       "      <td>2017-01-08</td>\n",
       "      <td>Second Class</td>\n",
       "      <td>LS-17230</td>\n",
       "      <td>Lycoris Saunders</td>\n",
       "      <td>Consumer</td>\n",
       "      <td>United States</td>\n",
       "      <td>Los Angeles</td>\n",
       "      <td>California</td>\n",
       "      <td>...</td>\n",
       "      <td>West</td>\n",
       "      <td>OFF-PA-10002005</td>\n",
       "      <td>Office Supplies</td>\n",
       "      <td>Paper</td>\n",
       "      <td>Xerox 225</td>\n",
       "      <td>19.440</td>\n",
       "      <td>3</td>\n",
       "      <td>0.0</td>\n",
       "      <td>9.3312</td>\n",
       "      <td>2017</td>\n",
       "    </tr>\n",
       "    <tr>\n",
       "      <th>2017-01-07</th>\n",
       "      <td>7662</td>\n",
       "      <td>CA-2017-105417</td>\n",
       "      <td>2017-01-12</td>\n",
       "      <td>Standard Class</td>\n",
       "      <td>VS-21820</td>\n",
       "      <td>Vivek Sundaresam</td>\n",
       "      <td>Consumer</td>\n",
       "      <td>United States</td>\n",
       "      <td>Huntsville</td>\n",
       "      <td>Texas</td>\n",
       "      <td>...</td>\n",
       "      <td>Central</td>\n",
       "      <td>OFF-BI-10003708</td>\n",
       "      <td>Office Supplies</td>\n",
       "      <td>Binders</td>\n",
       "      <td>Acco Four Pocket Poly Ring Binder with Label H...</td>\n",
       "      <td>10.430</td>\n",
       "      <td>7</td>\n",
       "      <td>0.8</td>\n",
       "      <td>-18.2525</td>\n",
       "      <td>2017</td>\n",
       "    </tr>\n",
       "    <tr>\n",
       "      <th>2017-01-07</th>\n",
       "      <td>7661</td>\n",
       "      <td>CA-2017-105417</td>\n",
       "      <td>2017-01-12</td>\n",
       "      <td>Standard Class</td>\n",
       "      <td>VS-21820</td>\n",
       "      <td>Vivek Sundaresam</td>\n",
       "      <td>Consumer</td>\n",
       "      <td>United States</td>\n",
       "      <td>Huntsville</td>\n",
       "      <td>Texas</td>\n",
       "      <td>...</td>\n",
       "      <td>Central</td>\n",
       "      <td>FUR-FU-10004864</td>\n",
       "      <td>Furniture</td>\n",
       "      <td>Furnishings</td>\n",
       "      <td>Howard Miller 14-1/2\" Diameter Chrome Round Wa...</td>\n",
       "      <td>76.728</td>\n",
       "      <td>3</td>\n",
       "      <td>0.6</td>\n",
       "      <td>-53.7096</td>\n",
       "      <td>2017</td>\n",
       "    </tr>\n",
       "    <tr>\n",
       "      <th>2017-01-09</th>\n",
       "      <td>594</td>\n",
       "      <td>CA-2017-135405</td>\n",
       "      <td>2017-01-13</td>\n",
       "      <td>Standard Class</td>\n",
       "      <td>MS-17830</td>\n",
       "      <td>Melanie Seite</td>\n",
       "      <td>Consumer</td>\n",
       "      <td>United States</td>\n",
       "      <td>Laredo</td>\n",
       "      <td>Texas</td>\n",
       "      <td>...</td>\n",
       "      <td>Central</td>\n",
       "      <td>TEC-AC-10001266</td>\n",
       "      <td>Technology</td>\n",
       "      <td>Accessories</td>\n",
       "      <td>Memorex Micro Travel Drive 8 GB</td>\n",
       "      <td>31.200</td>\n",
       "      <td>3</td>\n",
       "      <td>0.2</td>\n",
       "      <td>9.7500</td>\n",
       "      <td>2017</td>\n",
       "    </tr>\n",
       "  </tbody>\n",
       "</table>\n",
       "<p>5 rows × 21 columns</p>\n",
       "</div>"
      ],
      "text/plain": [
       "            Row ID        Order ID  Ship Date       Ship Mode Customer ID  \\\n",
       "Order Date                                                                  \n",
       "2017-01-03    7981  CA-2017-103800 2017-01-07  Standard Class    DP-13000   \n",
       "2017-01-06    5328  CA-2017-130813 2017-01-08    Second Class    LS-17230   \n",
       "2017-01-07    7662  CA-2017-105417 2017-01-12  Standard Class    VS-21820   \n",
       "2017-01-07    7661  CA-2017-105417 2017-01-12  Standard Class    VS-21820   \n",
       "2017-01-09     594  CA-2017-135405 2017-01-13  Standard Class    MS-17830   \n",
       "\n",
       "               Customer Name   Segment Country/Region         City  \\\n",
       "Order Date                                                           \n",
       "2017-01-03     Darren Powers  Consumer  United States      Houston   \n",
       "2017-01-06  Lycoris Saunders  Consumer  United States  Los Angeles   \n",
       "2017-01-07  Vivek Sundaresam  Consumer  United States   Huntsville   \n",
       "2017-01-07  Vivek Sundaresam  Consumer  United States   Huntsville   \n",
       "2017-01-09     Melanie Seite  Consumer  United States       Laredo   \n",
       "\n",
       "                 State  ...   Region       Product ID         Category  \\\n",
       "Order Date              ...                                              \n",
       "2017-01-03       Texas  ...  Central  OFF-PA-10000174  Office Supplies   \n",
       "2017-01-06  California  ...     West  OFF-PA-10002005  Office Supplies   \n",
       "2017-01-07       Texas  ...  Central  OFF-BI-10003708  Office Supplies   \n",
       "2017-01-07       Texas  ...  Central  FUR-FU-10004864        Furniture   \n",
       "2017-01-09       Texas  ...  Central  TEC-AC-10001266       Technology   \n",
       "\n",
       "           Sub-Category                                       Product Name  \\\n",
       "Order Date                                                                   \n",
       "2017-01-03        Paper  Message Book, Wirebound, Four 5 1/2\" X 4\" Form...   \n",
       "2017-01-06        Paper                                          Xerox 225   \n",
       "2017-01-07      Binders  Acco Four Pocket Poly Ring Binder with Label H...   \n",
       "2017-01-07  Furnishings  Howard Miller 14-1/2\" Diameter Chrome Round Wa...   \n",
       "2017-01-09  Accessories                    Memorex Micro Travel Drive 8 GB   \n",
       "\n",
       "             Sales  Quantity  Discount   Profit  OrdYear  \n",
       "Order Date                                                \n",
       "2017-01-03  16.448         2       0.2   5.5512     2017  \n",
       "2017-01-06  19.440         3       0.0   9.3312     2017  \n",
       "2017-01-07  10.430         7       0.8 -18.2525     2017  \n",
       "2017-01-07  76.728         3       0.6 -53.7096     2017  \n",
       "2017-01-09  31.200         3       0.2   9.7500     2017  \n",
       "\n",
       "[5 rows x 21 columns]"
      ]
     },
     "execution_count": 17,
     "metadata": {},
     "output_type": "execute_result"
    }
   ],
   "source": [
    "# 04 - your friend ask for all order data in `California` and `Texas` in 2017 (look at Order Date), send him csv file\n",
    "new_df = df.loc['2017'].query('State == \"California\" or State == \"Texas\"')\n",
    "new_df.head()"
   ]
  },
  {
   "cell_type": "code",
   "execution_count": 18,
   "metadata": {
    "datalore": {
     "hide_input_from_viewers": true,
     "hide_output_from_viewers": true,
     "node_id": "fRvWENDtJwQwyai2tYKfs3",
     "type": "CODE"
    }
   },
   "outputs": [],
   "source": [
    "new_df.to_csv('ca_tx_2017.csv')"
   ]
  },
  {
   "cell_type": "code",
   "execution_count": 19,
   "metadata": {
    "datalore": {
     "hide_input_from_viewers": false,
     "hide_output_from_viewers": false,
     "node_id": "5avHUYT9iKzvTOGMFDNXYB",
     "report_properties": {},
     "type": "CODE"
    }
   },
   "outputs": [
    {
     "data": {
      "text/plain": [
       "sum     484247.498100\n",
       "mean       242.974159\n",
       "std        754.053357\n",
       "Name: Sales, dtype: float64"
      ]
     },
     "execution_count": 19,
     "metadata": {},
     "output_type": "execute_result"
    }
   ],
   "source": [
    "# 05 - how much total sales, average sales, and standard deviation of sales your company make in 2017\n",
    "df.loc['2017-01-01':'2018-01-01', 'Sales'].agg(['sum', 'mean', 'std'])"
   ]
  },
  {
   "cell_type": "code",
   "execution_count": 20,
   "metadata": {
    "datalore": {
     "hide_input_from_viewers": false,
     "hide_output_from_viewers": false,
     "node_id": "xTk4XtnVt0iz8YbP5DNTuU",
     "report_properties": {},
     "type": "CODE"
    }
   },
   "outputs": [
    {
     "data": {
      "text/plain": [
       "Segment\n",
       "Consumer       28281.3665\n",
       "Corporate      19675.1978\n",
       "Home Office    12470.1124\n",
       "Name: Profit, dtype: float64"
      ]
     },
     "execution_count": 20,
     "metadata": {},
     "output_type": "execute_result"
    }
   ],
   "source": [
    "# 06 - which Segment has the highest profit in 2018\n",
    "df.loc['2018'] \\\n",
    "    .groupby('Segment')['Profit'] \\\n",
    "    .sum() \\\n",
    "    .sort_values(ascending=False)"
   ]
  },
  {
   "cell_type": "code",
   "execution_count": 21,
   "metadata": {
    "datalore": {
     "hide_input_from_viewers": false,
     "hide_output_from_viewers": false,
     "node_id": "pRyjoZBqYpwYJ8nZ9Hlx9Q",
     "report_properties": {},
     "type": "CODE"
    }
   },
   "outputs": [
    {
     "data": {
      "text/plain": [
       "State\n",
       "New Hampshire            49.05\n",
       "New Mexico               64.08\n",
       "District of Columbia    117.07\n",
       "Louisiana               249.80\n",
       "South Carolina          502.48\n",
       "Name: Sales, dtype: float64"
      ]
     },
     "execution_count": 21,
     "metadata": {},
     "output_type": "execute_result"
    }
   ],
   "source": [
    "# 07 - which top 5 States have the least total sales between 15 April 2019 - 31 December 2019\n",
    "df['2019-04-15':'2019-12-31'] \\\n",
    "    .groupby('State')['Sales'] \\\n",
    "    .sum() \\\n",
    "    .sort_values(ascending=True) \\\n",
    "    .head(5)"
   ]
  },
  {
   "cell_type": "code",
   "execution_count": 22,
   "metadata": {
    "datalore": {
     "hide_input_from_viewers": false,
     "hide_output_from_viewers": false,
     "node_id": "CnnW0uUTnoi1wBHIbNIZGZ",
     "report_properties": {},
     "type": "CODE"
    }
   },
   "outputs": [
    {
     "data": {
      "text/plain": [
       "55.24385724551216"
      ]
     },
     "execution_count": 22,
     "metadata": {},
     "output_type": "execute_result"
    }
   ],
   "source": [
    "# 08 - what is the proportion of total sales (%) in West + Central in 2019 e.g. 25%\n",
    "df_2019 = df.loc['2019'].groupby('Region')['Sales'].sum()\n",
    "(df_2019.loc['West'] + df_2019.loc['Central']) / df_2019.sum() * 100"
   ]
  },
  {
   "cell_type": "code",
   "execution_count": 23,
   "metadata": {
    "datalore": {
     "hide_input_from_viewers": false,
     "hide_output_from_viewers": false,
     "node_id": "8VILSsgQcpboFDYKaX99c5",
     "report_properties": {},
     "type": "CODE"
    }
   },
   "outputs": [
    {
     "data": {
      "text/plain": [
       "Easy-staple paper                                  27\n",
       "Staples                                            24\n",
       "Staple envelope                                    22\n",
       "Staples in misc. colors                            13\n",
       "Chromcraft Round Conference Tables                 12\n",
       "Staple remover                                     12\n",
       "Storex Dura Pro Binders                            12\n",
       "Global Wood Trimmed Manager's Task Chair, Khaki    11\n",
       "Avery Non-Stick Binders                            11\n",
       "GBC Instant Report Kit                             10\n",
       "Name: Product Name, dtype: int64"
      ]
     },
     "execution_count": 23,
     "metadata": {},
     "output_type": "execute_result"
    }
   ],
   "source": [
    "# 09 - find top 10 popular products in terms of number of orders vs. total sales during 2019-2020\n",
    "# Top 10 products by number of orders\n",
    "df.loc['2019':'2020', 'Product Name'] \\\n",
    "    .value_counts() \\\n",
    "    .head(10)"
   ]
  },
  {
   "cell_type": "code",
   "execution_count": 24,
   "metadata": {
    "datalore": {
     "hide_input_from_viewers": true,
     "hide_output_from_viewers": true,
     "node_id": "ZJDkktRHRqU39iR2vOfeiB",
     "type": "CODE"
    }
   },
   "outputs": [
    {
     "data": {
      "text/plain": [
       "Product Name\n",
       "Canon imageCLASS 2200 Advanced Copier                 61599.824\n",
       "Hewlett Packard LaserJet 3310 Copier                  16079.732\n",
       "3D Systems Cube Printer, 2nd Generation, Magenta      14299.890\n",
       "GBC Ibimaster 500 Manual ProClick Binding System      13621.542\n",
       "GBC DocuBind TL300 Electric Binding System            12737.258\n",
       "GBC DocuBind P400 Electric Binding System             12521.108\n",
       "Samsung Galaxy Mega 6.3                               12263.708\n",
       "HON 5400 Series Task Chairs for Big and Tall          11846.562\n",
       "Martin Yale Chadless Opener Electric Letter Opener    11825.902\n",
       "Global Troy Executive Leather Low-Back Tilter         10169.894\n",
       "Name: Sales, dtype: float64"
      ]
     },
     "execution_count": 24,
     "metadata": {},
     "output_type": "execute_result"
    }
   ],
   "source": [
    "# Top 10 products by total sales\n",
    "df.loc['2019':'2020'] \\\n",
    "    .groupby('Product Name')['Sales'] \\\n",
    "    .sum() \\\n",
    "    .sort_values(ascending=False) \\\n",
    "    .head(10)"
   ]
  },
  {
   "cell_type": "code",
   "execution_count": 25,
   "metadata": {
    "datalore": {
     "hide_input_from_viewers": false,
     "hide_output_from_viewers": false,
     "node_id": "fxFIMEKP3Sdaa8PdppCjsw",
     "report_properties": {},
     "type": "CODE"
    }
   },
   "outputs": [
    {
     "data": {
      "image/png": "[encoded data removed]",
      "text/plain": [
       "<Figure size 432x288 with 1 Axes>"
      ]
     },
     "metadata": {
      "needs_background": "light"
     },
     "output_type": "display_data"
    }
   ],
   "source": [
    "# 10 - plot at least 2 plots, any plot you think interesting :)\n",
    "\n",
    "import matplotlib as mpl\n",
    "import matplotlib.pyplot as plt\n",
    "\n",
    "# Sales trends by category\n",
    "df.groupby('Category').resample('Q')['Sales'].sum() \\\n",
    "    .unstack('Category', fill_value=0) \\\n",
    "    .plot.area(color = mpl.colormaps['Blues'](np.linspace(.2, .5, 3)));"
   ]
  },
  {
   "cell_type": "code",
   "execution_count": 26,
   "metadata": {
    "datalore": {
     "hide_input_from_viewers": true,
     "hide_output_from_viewers": true,
     "node_id": "6Uh9rRf8K1Kokbd0g69PQp",
     "type": "CODE"
    }
   },
   "outputs": [
    {
     "data": {
      "image/png": "[encoded data removed]",
      "text/plain": [
       "<Figure size 432x288 with 2 Axes>"
      ]
     },
     "metadata": {
      "needs_background": "light"
     },
     "output_type": "display_data"
    }
   ],
   "source": [
    "# Sales and profit of each sub-category\n",
    "tmp = df.groupby('Sub-Category').apply(lambda x: pd.Series({\n",
    "    'Sales': x['Sales'].sum(),\n",
    "    'NPM': x['Profit'].sum() / x['Sales'].sum() * 100\n",
    "})).sort_values('Sales', ascending=False)\n",
    "ax = tmp.plot.bar(y='Sales')\n",
    "ax1 = tmp.plot.line(y='NPM', color='salmon', secondary_y=True, ax=ax, rot=90)\n",
    "ax1.axhline(y=0, color='red', ls='--')\n",
    "ax1.set_ylim(-10, 60);"
   ]
  },
  {
   "cell_type": "code",
   "execution_count": 27,
   "metadata": {
    "datalore": {
     "hide_input_from_viewers": true,
     "hide_output_from_viewers": true,
     "node_id": "Jfoi1ZqdaiMTYRHandhtCs",
     "type": "CODE"
    }
   },
   "outputs": [
    {
     "name": "stdout",
     "output_type": "stream",
     "text": [
      "<class 'pandas.core.frame.DataFrame'>\n",
      "DatetimeIndex: 9983 entries, 2017-01-03 to 2020-12-30\n",
      "Data columns (total 21 columns):\n",
      " #   Column          Non-Null Count  Dtype         \n",
      "---  ------          --------------  -----         \n",
      " 0   Row ID          9983 non-null   int64         \n",
      " 1   Order ID        9983 non-null   object        \n",
      " 2   Ship Date       9983 non-null   datetime64[ns]\n",
      " 3   Ship Mode       9983 non-null   object        \n",
      " 4   Customer ID     9983 non-null   object        \n",
      " 5   Customer Name   9983 non-null   object        \n",
      " 6   Segment         9983 non-null   object        \n",
      " 7   Country/Region  9983 non-null   object        \n",
      " 8   City            9983 non-null   object        \n",
      " 9   State           9983 non-null   object        \n",
      " 10  Postal Code     9983 non-null   float64       \n",
      " 11  Region          9983 non-null   object        \n",
      " 12  Product ID      9983 non-null   object        \n",
      " 13  Category        9983 non-null   object        \n",
      " 14  Sub-Category    9983 non-null   object        \n",
      " 15  Product Name    9983 non-null   object        \n",
      " 16  Sales           9983 non-null   float64       \n",
      " 17  Quantity        9983 non-null   int64         \n",
      " 18  Discount        9983 non-null   float64       \n",
      " 19  Profit          9983 non-null   float64       \n",
      " 20  OrdYear         9983 non-null   int64         \n",
      "dtypes: datetime64[ns](1), float64(4), int64(3), object(13)\n",
      "memory usage: 1.9+ MB\n"
     ]
    }
   ],
   "source": [
    "df.info()"
   ]
  },
  {
   "cell_type": "code",
   "execution_count": 28,
   "metadata": {
    "datalore": {
     "hide_input_from_viewers": false,
     "hide_output_from_viewers": false,
     "node_id": "ODW7tgsIaTgXvFWHKUAejx",
     "report_properties": {},
     "type": "CODE"
    }
   },
   "outputs": [],
   "source": [
    "# Bonus - use np.where() to create new column in dataframe to help you answer your own questions\n",
    "\n",
    "# What are the states that mostly sold products at a loss?\n",
    "df['Profitable'] = np.where(df['Profit'] >= 0, 'Break-even or profit', 'Loss')"
   ]
  },
  {
   "cell_type": "code",
   "execution_count": 29,
   "metadata": {
    "datalore": {
     "hide_input_from_viewers": true,
     "hide_output_from_viewers": true,
     "node_id": "XN9sEqtXBL8Yx64yJk4UrE",
     "type": "CODE"
    }
   },
   "outputs": [
    {
     "data": {
      "text/plain": [
       "<matplotlib.legend.Legend at 0x1dc6b56da90>"
      ]
     },
     "execution_count": 29,
     "metadata": {},
     "output_type": "execute_result"
    },
    {
     "data": {
      "image/png": "[encoded data removed]",
      "text/plain": [
       "<Figure size 432x288 with 1 Axes>"
      ]
     },
     "metadata": {
      "needs_background": "light"
     },
     "output_type": "display_data"
    }
   ],
   "source": [
    "count_df = pd.crosstab(df['State'], df['Profitable'])\n",
    "count_df.div(count_df.sum(axis=1), axis=0) \\\n",
    "    .query('Loss > 0') \\\n",
    "    .sort_values('Loss', ascending=False) \\\n",
    "    .plot.bar(stacked=True)\n",
    "\n",
    "plt.legend(loc='lower right', ncol=2)"
   ]
  }
 ],
 "metadata": {
  "datalore": {
   "base_environment": "default",
   "computation_mode": "JUPYTER",
   "package_manager": "pip",
   "packages": [],
   "version": 1
  },
  "kernelspec": {
   "display_name": "ml",
   "language": "python",
   "name": "python3"
  },
  "language_info": {
   "codemirror_mode": {
    "name": "ipython",
    "version": 3
   },
   "file_extension": ".py",
   "mimetype": "text/x-python",
   "name": "python",
   "nbconvert_exporter": "python",
   "pygments_lexer": "ipython3",
   "version": "3.9.7"
  },
  "vscode": {
   "interpreter": {
    "hash": "a3e99ee68e0179c1620742528f4b28c5dcfe3d0a50b8ed7cdcc051a77a0a83f0"
   }
  }
 },
 "nbformat": 4,
 "nbformat_minor": 4
}
