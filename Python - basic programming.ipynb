{
  "nbformat": 4,
  "nbformat_minor": 0,
  "metadata": {
    "colab": {
      "provenance": []
    },
    "kernelspec": {
      "name": "python3",
      "display_name": "Python 3"
    },
    "language_info": {
      "name": "python"
    }
  },
  "cells": [
    {
      "cell_type": "markdown",
      "source": [
        "# Rock Paper Scissors Game"
      ],
      "metadata": {
        "id": "RkymXrW14Umd"
      }
    },
    {
      "cell_type": "code",
      "source": [
        "from random import choice\n",
        "\n",
        "score = {\n",
        "    'win': 0,\n",
        "    'draw': 0,\n",
        "    'lose': 0\n",
        "}\n",
        "actions = {\n",
        "    'R': 'Rock',\n",
        "    'P': 'Paper',\n",
        "    'S': 'Scissors'\n",
        "}\n",
        "\n",
        "print('=== Welcome to Rock Papar Scissors Game ===\\n')\n",
        "\n",
        "commands = (\n",
        "'''Please enter one of the following commands:\n",
        "R = Rock\n",
        "P = Paper\n",
        "S = Scissors\n",
        "E = Exit\n",
        "'''\n",
        ")\n",
        "\n",
        "while True:\n",
        "    player = input(commands).upper()\n",
        "\n",
        "    if player not in ('R', 'P', 'S', 'E'):\n",
        "        print('Invalid command!\\n')\n",
        "        continue\n",
        "    elif player == 'E':\n",
        "        break\n",
        "\n",
        "    bot = choice(('R', 'P', 'S'))\n",
        "    print(f'Player: {actions[player]} Vs. Bot: {actions[bot]}')\n",
        "\n",
        "    if bot == player:\n",
        "        print('Draw!\\n')\n",
        "        score['draw'] += 1\n",
        "    elif (\n",
        "           (player == 'R' and bot == 'S')\n",
        "        or (player == 'S' and bot == 'P')\n",
        "        or (player == 'P' and bot == 'R')\n",
        "    ):\n",
        "        print('You Win!\\n')\n",
        "        score['win'] += 1\n",
        "    else:\n",
        "        print('You Lose!\\n')\n",
        "        score['lose'] += 1\n",
        "\n",
        "\n",
        "print('\\n=== Your Score ===')\n",
        "print(f\"Win:  {score['win']}\")\n",
        "print(f\"Draw: {score['draw']}\")\n",
        "print(f\"Lose: {score['lose']}\")\n",
        "\n",
        "print('======================')\n",
        "print('  Thanks for playing  ')\n",
        "print('======================')\n"
      ],
      "metadata": {
        "id": "drHNPwdM4mFW",
        "colab": {
          "base_uri": "https://localhost:8080/"
        },
        "outputId": "999c7abc-aed7-45e7-889e-b3616f94d598"
      },
      "execution_count": null,
      "outputs": [
        {
          "output_type": "stream",
          "name": "stdout",
          "text": [
            "=== Welcome to Rock Papar Scissors Game ===\n",
            "\n",
            "Please enter one of the following commands:\n",
            "R = Rock\n",
            "P = Paper\n",
            "S = Scissors\n",
            "E = Exit\n",
            "r\n",
            "Player: Rock Vs. Bot: Scissors\n",
            "You Win!\n",
            "\n",
            "Please enter one of the following commands:\n",
            "R = Rock\n",
            "P = Paper\n",
            "S = Scissors\n",
            "E = Exit\n",
            "p\n",
            "Player: Paper Vs. Bot: Paper\n",
            "Draw!\n",
            "\n",
            "Please enter one of the following commands:\n",
            "R = Rock\n",
            "P = Paper\n",
            "S = Scissors\n",
            "E = Exit\n",
            "s\n",
            "Player: Scissors Vs. Bot: Paper\n",
            "You Win!\n",
            "\n",
            "Please enter one of the following commands:\n",
            "R = Rock\n",
            "P = Paper\n",
            "S = Scissors\n",
            "E = Exit\n",
            "e\n",
            "\n",
            "=== Your Score ===\n",
            "Win:  2\n",
            "Draw: 1\n",
            "Lose: 0\n",
            "======================\n",
            "  Thanks for playing  \n",
            "======================\n"
          ]
        }
      ]
    },
    {
      "cell_type": "markdown",
      "source": [
        "# ATM Object"
      ],
      "metadata": {
        "id": "lvTbPR3S47qb"
      }
    },
    {
      "cell_type": "code",
      "source": [
        "from datetime import datetime\n",
        "\n",
        "def auth_required(f):\n",
        "    def wrapper(self, *args, pin=None, **kwargs):\n",
        "        ret = None\n",
        "        if self._authenticated:\n",
        "            ret = f(self, *args, **kwargs)\n",
        "        elif pin is None:\n",
        "            print('Unauthenticated')\n",
        "        elif self._pin != pin:\n",
        "            print('Authentication failed')\n",
        "        else:\n",
        "            self._authenticated = True\n",
        "            ret = f(self, *args, **kwargs)\n",
        "            self._authenticated = False\n",
        "        return ret\n",
        "    \n",
        "    return wrapper\n",
        "\n",
        "class ATM:\n",
        "    def __init__(self, accno, pin, init_balance):\n",
        "        self._accno = accno\n",
        "        self._pin = pin\n",
        "        self._balance = init_balance\n",
        "        self._authenticated = False\n",
        "\n",
        "    @auth_required\n",
        "    def _try_withdraw(self, amount):\n",
        "        if amount > self._balance:\n",
        "            print('Insufficient amount!')\n",
        "            self.check_balance()\n",
        "            return False\n",
        "\n",
        "        self._balance -= amount\n",
        "        return True\n",
        "\n",
        "    @auth_required\n",
        "    def check_balance(self):\n",
        "        print(f'You now have THB{self._balance} in your account')\n",
        "\n",
        "    @auth_required\n",
        "    def deposit(self, amount):\n",
        "        self._balance += amount\n",
        "        print(f'Deposited THB{amount}')\n",
        "        self.check_balance()\n",
        "\n",
        "    @auth_required\n",
        "    def withdraw(self, amount):\n",
        "        if self._try_withdraw(amount):\n",
        "            print(f'Withdrew THB{amount}')\n",
        "            self.check_balance()\n",
        "\n",
        "    @auth_required\n",
        "    def transfer(self, accno, amount):\n",
        "        if accno == self._accno:\n",
        "            print(\"You can't transfer money to your own account!\")\n",
        "            return\n",
        "\n",
        "        if self._try_withdraw(amount):\n",
        "            print(f'Transferred THB{amount} to {accno}')\n",
        "            self.check_balance()\n",
        "\n",
        "    def change_pin(self, pin, new_pin, rep_pin):\n",
        "        if self._pin != pin or new_pin != rep_pin:\n",
        "            print('Pin mismatched!')\n",
        "            return\n",
        "        \n",
        "        self._pin = new_pin\n",
        "        print('Pin changed!')\n",
        "\n"
      ],
      "metadata": {
        "id": "QTqZQFpN4_H9"
      },
      "execution_count": null,
      "outputs": []
    },
    {
      "cell_type": "markdown",
      "source": [
        "Create account"
      ],
      "metadata": {
        "id": "hKTQ4Bvcnv3e"
      }
    },
    {
      "cell_type": "code",
      "source": [
        "pin = '1234'\n",
        "myaccno = '001'\n",
        "myaccount = ATM(myaccno, pin, 100)"
      ],
      "metadata": {
        "id": "W1MJQqnzyxbo"
      },
      "execution_count": null,
      "outputs": []
    },
    {
      "cell_type": "markdown",
      "source": [
        "Deposit money"
      ],
      "metadata": {
        "id": "8mCmtOkNn0HV"
      }
    },
    {
      "cell_type": "code",
      "source": [
        "myaccount.deposit(100, pin=pin)"
      ],
      "metadata": {
        "colab": {
          "base_uri": "https://localhost:8080/"
        },
        "id": "ZRmaGs1rnTem",
        "outputId": "1a68b3ce-d019-4c0e-9a8a-e05e99b6db93"
      },
      "execution_count": null,
      "outputs": [
        {
          "output_type": "stream",
          "name": "stdout",
          "text": [
            "Deposited THB100\n",
            "You now have THB200 in your account\n"
          ]
        }
      ]
    },
    {
      "cell_type": "markdown",
      "source": [
        "Withdraw money"
      ],
      "metadata": {
        "id": "4MpyFmHDoP4u"
      }
    },
    {
      "cell_type": "code",
      "source": [
        "myaccount.withdraw(50, pin=pin)"
      ],
      "metadata": {
        "colab": {
          "base_uri": "https://localhost:8080/"
        },
        "id": "cxi9qbKYonle",
        "outputId": "9a22194e-6552-4b1b-ad2b-3369594e167f"
      },
      "execution_count": null,
      "outputs": [
        {
          "output_type": "stream",
          "name": "stdout",
          "text": [
            "Withdrew THB50\n",
            "You now have THB150 in your account\n"
          ]
        }
      ]
    },
    {
      "cell_type": "code",
      "source": [
        "myaccount.withdraw(300, pin=pin)"
      ],
      "metadata": {
        "colab": {
          "base_uri": "https://localhost:8080/"
        },
        "id": "QoQbg1eLopvd",
        "outputId": "9c4dc535-b8da-4fb6-f821-1d662cee5144"
      },
      "execution_count": null,
      "outputs": [
        {
          "output_type": "stream",
          "name": "stdout",
          "text": [
            "Insufficient amount!\n",
            "You now have THB150 in your account\n"
          ]
        }
      ]
    },
    {
      "cell_type": "markdown",
      "source": [
        "Transfer money"
      ],
      "metadata": {
        "id": "wmk5K5F_osU9"
      }
    },
    {
      "cell_type": "code",
      "source": [
        "myfriend_accno = '002'\n",
        "myaccount.transfer(myfriend_accno, 40, pin=pin)"
      ],
      "metadata": {
        "colab": {
          "base_uri": "https://localhost:8080/"
        },
        "id": "y0y4rgeKrAm8",
        "outputId": "73284499-7526-42c9-c865-347c10c7e2ec"
      },
      "execution_count": null,
      "outputs": [
        {
          "output_type": "stream",
          "name": "stdout",
          "text": [
            "Transferred THB40 to 002\n",
            "You now have THB110 in your account\n"
          ]
        }
      ]
    },
    {
      "cell_type": "code",
      "source": [
        "myaccount.transfer(myaccno, 40, pin=pin)"
      ],
      "metadata": {
        "colab": {
          "base_uri": "https://localhost:8080/"
        },
        "id": "Fiw7uhe9rPtt",
        "outputId": "8de596ff-2f24-43a6-f572-707cbc369d4b"
      },
      "execution_count": null,
      "outputs": [
        {
          "output_type": "stream",
          "name": "stdout",
          "text": [
            "You can't transfer money to your own account!\n"
          ]
        }
      ]
    },
    {
      "cell_type": "markdown",
      "source": [
        "Check balance"
      ],
      "metadata": {
        "id": "cLCbBQAXrbcK"
      }
    },
    {
      "cell_type": "code",
      "source": [
        "myaccount.check_balance(pin=pin)"
      ],
      "metadata": {
        "colab": {
          "base_uri": "https://localhost:8080/"
        },
        "id": "tioCZrZIrt8O",
        "outputId": "38934764-4891-47cd-dfe9-6db07d207a80"
      },
      "execution_count": null,
      "outputs": [
        {
          "output_type": "stream",
          "name": "stdout",
          "text": [
            "You now have THB110 in your account\n"
          ]
        }
      ]
    },
    {
      "cell_type": "code",
      "source": [
        "myaccount.check_balance(pin='4321')"
      ],
      "metadata": {
        "colab": {
          "base_uri": "https://localhost:8080/"
        },
        "id": "O33_FNksrwxt",
        "outputId": "dfe7c6d7-f52f-4786-a2ae-f44c62111065"
      },
      "execution_count": null,
      "outputs": [
        {
          "output_type": "stream",
          "name": "stdout",
          "text": [
            "Authentication failed\n"
          ]
        }
      ]
    },
    {
      "cell_type": "markdown",
      "source": [
        "Change pin"
      ],
      "metadata": {
        "id": "zyU-xTIDr4wG"
      }
    },
    {
      "cell_type": "code",
      "source": [
        "myaccount.change_pin(pin, '0000', '0001')"
      ],
      "metadata": {
        "colab": {
          "base_uri": "https://localhost:8080/"
        },
        "id": "4rTNkR5Rr96l",
        "outputId": "3b8d3490-74a9-47be-f207-afe72a69c037"
      },
      "execution_count": null,
      "outputs": [
        {
          "output_type": "stream",
          "name": "stdout",
          "text": [
            "Pin mismatched!\n"
          ]
        }
      ]
    },
    {
      "cell_type": "code",
      "source": [
        "myaccount.change_pin(pin, '0000', '0000')"
      ],
      "metadata": {
        "colab": {
          "base_uri": "https://localhost:8080/"
        },
        "id": "nvBpMba4sDX9",
        "outputId": "b9738e88-eb34-4714-82c9-e16439e87f9a"
      },
      "execution_count": null,
      "outputs": [
        {
          "output_type": "stream",
          "name": "stdout",
          "text": [
            "Pin changed!\n"
          ]
        }
      ]
    },
    {
      "cell_type": "code",
      "source": [
        "myaccount.check_balance(pin='0000')"
      ],
      "metadata": {
        "id": "ZHjglobksWA9",
        "outputId": "83c8a1f2-d4f4-4f51-8b06-a9521a12eb94",
        "colab": {
          "base_uri": "https://localhost:8080/"
        }
      },
      "execution_count": null,
      "outputs": [
        {
          "output_type": "stream",
          "name": "stdout",
          "text": [
            "You now have THB110 in your account\n"
          ]
        }
      ]
    }
  ]
}